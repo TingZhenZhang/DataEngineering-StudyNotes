{
 "cells": [
  {
   "cell_type": "markdown",
   "metadata": {},
   "source": [
    "【課程名稱】東吳大學資管系--資料工程實務與應用<br>\n",
    "【授課老師】陳祥輝 (Email : <HsiangHui.Chen@gmail.com>)<br>\n",
    "【facebook】[陳祥輝老師的臉書 (歡迎加好友)](https://goo.gl/osivhx)<br>\n",
    "【相關課程】[陳祥輝老師的課程]  \n",
    "- [【東吳大學推廣部】](https://www.ext.scu.edu.tw/courses_search.php?key=陳祥輝)\n",
    "- [【臺北大學推廣教育】](https://dce.ntpu.edu.tw/page-search.php?q=陳祥輝)"
   ]
  },
  {
   "cell_type": "markdown",
   "metadata": {},
   "source": [
    "#### <font color='blue'>作答前先填寫以下個人資料，並將檔名更改成HW01_學號+姓名，例如 : HW01_081123456陳祥輝</font>"
   ]
  },
  {
   "cell_type": "markdown",
   "metadata": {},
   "source": [
    "【學生系級】 資三A <br>\n",
    "【學生學號】 09156146 <br>\n",
    "【學生姓名】 張庭禎 <br>"
   ]
  },
  {
   "cell_type": "markdown",
   "metadata": {},
   "source": [
    "#### <font color=blue>(001) 請撰寫一個函數，可以執行以下的功能</font>\n",
    "- 函數名稱 : getMultiple(low, high, factors)\n",
    "- 【參數說明】\n",
    "    - low : 範圍的最小值(包含)\n",
    "    - hight : 範圍的最大值(包含)\n",
    "    - 因數 : 可以列多個因素，例如 : [11, 23] or [3, 5, 9] or ... \n",
    "- 【回傳結果】list 物件\n",
    "    - [[第1個因素的倍數], [第2個因素的倍數], .... ]\n",
    "    - 例如 : [[55, 66, 77, 88, 99], [69, 92]]"
   ]
  },
  {
   "cell_type": "code",
   "execution_count": 1,
   "metadata": {},
   "outputs": [],
   "source": [
    "import numpy as np\n",
    "import string\n",
    "import random"
   ]
  },
  {
   "cell_type": "code",
   "execution_count": 2,
   "metadata": {},
   "outputs": [],
   "source": [
    "def getMultiple(low, high, factors) :\n",
    "    lis = []\n",
    "    temp = []\n",
    "    for i in factors :\n",
    "        a = int(np.ceil(low / i) * i)\n",
    "        for a in range(a, high, i) :\n",
    "            temp.append(a)\n",
    "        lis.append(temp)\n",
    "        temp=[]\n",
    "        \n",
    "    return lis"
   ]
  },
  {
   "cell_type": "code",
   "execution_count": 3,
   "metadata": {},
   "outputs": [
    {
     "name": "stdout",
     "output_type": "stream",
     "text": [
      "[[55, 66, 77, 88, 99], [69, 92]]\n"
     ]
    }
   ],
   "source": [
    "print(getMultiple(low=50, high=100, factors=[11, 23]))\n",
    "\n",
    "# 【輸出結果】\n",
    "# [[55, 66, 77, 88, 99], [69, 92]]"
   ]
  },
  {
   "cell_type": "code",
   "execution_count": 4,
   "metadata": {},
   "outputs": [
    {
     "name": "stdout",
     "output_type": "stream",
     "text": [
      "[[3, 6, 9, 12, 15, 18, 21, 24, 27, 30, 33, 36, 39, 42, 45, 48, 51, 54, 57, 60, 63, 66, 69, 72, 75, 78, 81, 84, 87, 90, 93, 96, 99], [5, 10, 15, 20, 25, 30, 35, 40, 45, 50, 55, 60, 65, 70, 75, 80, 85, 90, 95], [9, 18, 27, 36, 45, 54, 63, 72, 81, 90, 99]]\n"
     ]
    }
   ],
   "source": [
    "print(getMultiple(low=1, high=100, factors=[3, 5, 9]))\n",
    "\n",
    "# 【輸出結果】\n",
    "# [[3, 6, 9, 12, 15, 18, 21, 24, 27, 30, 33, 36, 39, 42, 45, 48, 51, 54, 57, 60, 63, 66, 69, 72, 75, 78, 81, 84, 87, 90, 93, 96, 99], \n",
    "#  [5, 10, 15, 20, 25, 30, 35, 40, 45, 50, 55, 60, 65, 70, 75, 80, 85, 90, 95], \n",
    "#  [9, 18, 27, 36, 45, 54, 63, 72, 81, 90, 99]]"
   ]
  },
  {
   "cell_type": "code",
   "execution_count": null,
   "metadata": {},
   "outputs": [],
   "source": []
  },
  {
   "cell_type": "markdown",
   "metadata": {},
   "source": [
    "#### <font color=#0000FF>(002-01)大家總是喜歡玩猜拳遊戲，請寫一個與電腦猜拳的遊戲，剪刀 < 石頭 < 布 < 剪刀 </font>\n",
    "* 1 : 剪刀\n",
    "* 2 : 石頭\n",
    "* 3 : 布\n",
    "    \n",
    "【說明】使用者可以輸入1, 2, 3，如果輸入 0 代表不玩了    "
   ]
  },
  {
   "cell_type": "code",
   "execution_count": 5,
   "metadata": {},
   "outputs": [
    {
     "name": "stdout",
     "output_type": "stream",
     "text": [
      "請輸入1~3其中一個數(1:剪刀、2:石頭、3:布)，輸入0停止遊戲：3\n",
      "電腦出剪刀、你出布，你輸了:(\n",
      "\n",
      "請輸入1~3其中一個數(1:剪刀、2:石頭、3:布)，輸入0停止遊戲：2\n",
      "電腦出布、你出石頭，你輸了:(\n",
      "\n",
      "請輸入1~3其中一個數(1:剪刀、2:石頭、3:布)，輸入0停止遊戲：2\n",
      "電腦出剪刀、你出石頭，你贏了:)\n",
      "\n",
      "請輸入1~3其中一個數(1:剪刀、2:石頭、3:布)，輸入0停止遊戲：1\n",
      "電腦出石頭、你出剪刀，你輸了:(\n",
      "\n",
      "請輸入1~3其中一個數(1:剪刀、2:石頭、3:布)，輸入0停止遊戲：0\n",
      "\n",
      "遊戲結束~\n"
     ]
    }
   ],
   "source": [
    "pos = ['剪刀', '石頭', '布']\n",
    "play = 10\n",
    "while play != 0 :\n",
    "    game = np.random.randint(1, 3+1)\n",
    "    play = int(input(\"請輸入1~3其中一個數(1:剪刀、2:石頭、3:布)，輸入0停止遊戲：\"))\n",
    "    if play == 1 and game == 3 :\n",
    "        play = 4\n",
    "    if play == 3 and game == 1 :\n",
    "        print(f'電腦出{pos[game-1]}、你出{pos[(play-1)%3]}，你輸了:(\\n')\n",
    "        continue\n",
    "    if play != 0 :\n",
    "        if play > game :\n",
    "            print(f'電腦出{pos[game-1]}、你出{pos[(play-1)%3]}，你贏了:)')\n",
    "        elif play < game :\n",
    "            print(f'電腦出{pos[game-1]}、你出{pos[(play-1)%3]}，你輸了:(')\n",
    "        else :\n",
    "            print(f'電腦出{pos[game-1]}、你出{pos[(play-1)%3]}，平手^^')\n",
    "    print()\n",
    "print('遊戲結束~')"
   ]
  },
  {
   "cell_type": "code",
   "execution_count": null,
   "metadata": {},
   "outputs": [],
   "source": []
  },
  {
   "cell_type": "code",
   "execution_count": null,
   "metadata": {},
   "outputs": [],
   "source": []
  },
  {
   "cell_type": "markdown",
   "metadata": {},
   "source": [
    "#### <font color=#0000FF>(002-02)請將以上的遊戲改成獵人、老虎、槍，獵人 < 老虎 < 槍 < 獵人</font>\n",
    "* 1 : 獵人\n",
    "* 2 : 老虎\n",
    "* 3 : 槍\n",
    "    \n",
    "【說明】使用者可以輸入1, 2, 3，如果輸入 0 代表不玩了    "
   ]
  },
  {
   "cell_type": "code",
   "execution_count": 6,
   "metadata": {},
   "outputs": [
    {
     "name": "stdout",
     "output_type": "stream",
     "text": [
      "請輸入1~3其中一個數(1:獵人、2:老虎、3:槍)，輸入0停止遊戲：3\n",
      "槍來了、你是槍，安全^^\n",
      "\n",
      "請輸入1~3其中一個數(1:獵人、2:老虎、3:槍)，輸入0停止遊戲：2\n",
      "槍來了、你是老虎，你完了:(\n",
      "\n",
      "請輸入1~3其中一個數(1:獵人、2:老虎、3:槍)，輸入0停止遊戲：1\n",
      "獵人來了、你是獵人，安全^^\n",
      "\n",
      "請輸入1~3其中一個數(1:獵人、2:老虎、3:槍)，輸入0停止遊戲：0\n",
      "\n",
      "遊戲結束~\n"
     ]
    }
   ],
   "source": [
    "pos = ['獵人', '老虎', '槍']\n",
    "play = 10\n",
    "while play != 0 :\n",
    "    game = np.random.randint(1, 3+1)\n",
    "    play = int(input(\"請輸入1~3其中一個數(1:獵人、2:老虎、3:槍)，輸入0停止遊戲：\"))\n",
    "    if play == 1 and game == 3 :\n",
    "        play = 4\n",
    "    if play == 3 and game == 1 :\n",
    "        print(f'{pos[game-1]}來了、你是{pos[(play-1)%3]}，你完了:(\\n')\n",
    "        continue\n",
    "    if play != 0 :\n",
    "        if play > game :\n",
    "            print(f'{pos[game-1]}來了、你是{pos[(play-1)%3]}，你活著:)')\n",
    "        elif play < game :\n",
    "            print(f'{pos[game-1]}來了、你是{pos[(play-1)%3]}，你完了:(')\n",
    "        else :\n",
    "            print(f'{pos[game-1]}來了、你是{pos[(play-1)%3]}，安全^^')\n",
    "    print()\n",
    "print('遊戲結束~')"
   ]
  },
  {
   "cell_type": "code",
   "execution_count": null,
   "metadata": {},
   "outputs": [],
   "source": []
  },
  {
   "cell_type": "code",
   "execution_count": null,
   "metadata": {},
   "outputs": [],
   "source": []
  },
  {
   "cell_type": "markdown",
   "metadata": {},
   "source": [
    "#### <font color=#0000FF>(002-03)請將以上的遊戲改成，棒打老虎雞吃蟲，蟲 < 雞 < 老虎 < 棒 < 蟲 </font>\n",
    "* 1 : 蟲\n",
    "* 2 : 雞\n",
    "* 3 : 老虎\n",
    "* 4 : 棒   \n",
    "\n",
    "【說明】使用者可以輸入1, 2, 3, 4，如果輸入 0 代表不玩了"
   ]
  },
  {
   "cell_type": "code",
   "execution_count": 7,
   "metadata": {},
   "outputs": [
    {
     "name": "stdout",
     "output_type": "stream",
     "text": [
      "請輸入1~3其中一個數(1:蟲、2:雞、3:老虎、4:棒)，輸入0停止遊戲：4\n",
      "棒打老虎雞吃蟲，老虎來了、你是棒，你活著:)\n",
      "\n",
      "請輸入1~3其中一個數(1:蟲、2:雞、3:老虎、4:棒)，輸入0停止遊戲：3\n",
      "棒打老虎雞吃蟲，雞來了、你是老虎，你活著:)\n",
      "\n",
      "請輸入1~3其中一個數(1:蟲、2:雞、3:老虎、4:棒)，輸入0停止遊戲：2\n",
      "棒打老虎雞吃蟲，雞來了、你是雞，安全^^\n",
      "\n",
      "請輸入1~3其中一個數(1:蟲、2:雞、3:老虎、4:棒)，輸入0停止遊戲：1\n",
      "棒打老虎雞吃蟲，棒來了、你是蟲，你活著:)\n",
      "\n",
      "請輸入1~3其中一個數(1:蟲、2:雞、3:老虎、4:棒)，輸入0停止遊戲：0\n",
      "\n",
      "遊戲結束~\n"
     ]
    }
   ],
   "source": [
    "pos = ['蟲', '雞', '老虎', '棒']\n",
    "play = 10\n",
    "while play != 0 :\n",
    "    game = np.random.randint(1, 4+1)\n",
    "    play = int(input(\"請輸入1~3其中一個數(1:蟲、2:雞、3:老虎、4:棒)，輸入0停止遊戲：\"))\n",
    "    if play == 1 and game == 4 :\n",
    "        play = 5\n",
    "    if play == 4 and game == 1 :\n",
    "        print(f'棒打老虎雞吃蟲，{pos[game-1]}來了、你是{pos[(play-1)%4]}，你完了:(\\n')\n",
    "        continue\n",
    "    if play != 0 :\n",
    "        if play > game :\n",
    "            print(f'棒打老虎雞吃蟲，{pos[game-1]}來了、你是{pos[(play-1)%4]}，你活著:)')\n",
    "        elif play < game :\n",
    "            print(f'棒打老虎雞吃蟲，{pos[game-1]}來了、你是{pos[(play-1)%4]}，你完了:(')\n",
    "        else :\n",
    "            print(f'棒打老虎雞吃蟲，{pos[game-1]}來了、你是{pos[(play-1)%4]}，安全^^')\n",
    "    print()\n",
    "print('遊戲結束~')"
   ]
  },
  {
   "cell_type": "code",
   "execution_count": null,
   "metadata": {},
   "outputs": [],
   "source": []
  },
  {
   "cell_type": "code",
   "execution_count": null,
   "metadata": {},
   "outputs": [],
   "source": []
  },
  {
   "cell_type": "markdown",
   "metadata": {},
   "source": [
    "#### <font color=#0000FF>(002-04)請將以上重新寫成一個函數，可以符合以上各種情況的遊戲</font><br>\n",
    "- 【函數名稱】gamePlay(kind)\n",
    "- 【輸入參數】kind : list型態的資料，例如 :\n",
    "    - ['剪刀', '石頭', '布']\n",
    "    - ['獵人', '老虎', '槍']\n",
    "    - ['蟲', '雞', '老虎']"
   ]
  },
  {
   "cell_type": "code",
   "execution_count": 8,
   "metadata": {},
   "outputs": [
    {
     "name": "stdout",
     "output_type": "stream",
     "text": [
      "1:['剪刀', '石頭', '布']\n",
      "2:['獵人', '老虎', '槍']\n",
      "3:['蟲', '雞', '老虎']\n",
      "選擇遊戲：3\n",
      "請輸入1~3其中一個數(1:蟲、2:雞、3:老虎)，輸入0停止遊戲：2\n",
      "電腦出蟲、你出雞，你贏了:)\n",
      "\n",
      "請輸入1~3其中一個數(1:蟲、2:雞、3:老虎)，輸入0停止遊戲：1\n",
      "電腦出雞、你出蟲，你輸了:(\n",
      "\n",
      "請輸入1~3其中一個數(1:蟲、2:雞、3:老虎)，輸入0停止遊戲：3\n",
      "電腦出蟲、你出老虎，你輸了:(\n",
      "\n",
      "請輸入1~3其中一個數(1:蟲、2:雞、3:老虎)，輸入0停止遊戲：0\n",
      "\n",
      "遊戲結束~\n"
     ]
    }
   ],
   "source": [
    "def gamePlay(kind) :\n",
    "    pos = kind\n",
    "    play = 10\n",
    "    while play != 0 :\n",
    "        game = np.random.randint(1, 3+1)\n",
    "        play = int(input(f\"請輸入1~3其中一個數(1:{pos[0]}、2:{pos[1]}、3:{pos[2]})，輸入0停止遊戲：\"))\n",
    "        if play == 1 and game == 3 :\n",
    "            play = 4\n",
    "        if play == 3 and game == 1 :\n",
    "            print(f'電腦出{pos[game-1]}、你出{pos[(play-1)%3]}，你輸了:(\\n')\n",
    "            continue\n",
    "        if play != 0 :\n",
    "            if play > game :\n",
    "                print(f'電腦出{pos[game-1]}、你出{pos[(play-1)%3]}，你贏了:)')\n",
    "            elif play < game :\n",
    "                print(f'電腦出{pos[game-1]}、你出{pos[(play-1)%3]}，你輸了:(')\n",
    "            else :\n",
    "                print(f'電腦出{pos[game-1]}、你出{pos[(play-1)%3]}，平手^^')\n",
    "        print()\n",
    "    print('遊戲結束~')\n",
    "    return\n",
    "    \n",
    "       \n",
    "k = int(input(\"1:['剪刀', '石頭', '布']\\n2:['獵人', '老虎', '槍']\\n3:['蟲', '雞', '老虎']\\n選擇遊戲：\")) \n",
    "lis = [['剪刀', '石頭', '布'],['獵人', '老虎', '槍'],['蟲', '雞', '老虎']]\n",
    "gamePlay(lis[k-1])"
   ]
  },
  {
   "cell_type": "code",
   "execution_count": null,
   "metadata": {},
   "outputs": [],
   "source": []
  },
  {
   "cell_type": "code",
   "execution_count": null,
   "metadata": {},
   "outputs": [],
   "source": []
  },
  {
   "cell_type": "markdown",
   "metadata": {},
   "source": [
    "#### <font color=#0000FF>(003)小時候我們常常玩猜數字遊戲，現在我們要寫一個小小的遊戲與電腦玩，規則如下:</font>\n",
    "1. 電腦先隨機產生一組四位數的數字，例如:<font color=#FF0000>5691</font>，每一個數字不可以重複，左邊第一個數字不可以為0\n",
    "2. 使用者不斷猜這一組數字，只要猜到的數字有在其中，位置相同數字相同就給個A，位置不同數字相同就給個B，例如猜 <font color=#FF0000>1650</font>，因為有猜到 1, 5, 6，其中 6 的位置又相同，其他位置不同，所以電腦要給 1A2B。\n",
    "3. 使用者輸入\"0000\"表示放棄不玩，或是猜對為止。結束後，系統必須告知答案，以及使用者總共玩了幾次，猜過哪些數字"
   ]
  },
  {
   "cell_type": "code",
   "execution_count": 9,
   "metadata": {},
   "outputs": [],
   "source": [
    "# 產生數字\n",
    "game = []\n",
    "\n",
    "l = ['0','1','2','3','4','5','6','7','8','9']\n",
    "random.shuffle(l)\n",
    "if l[0] == '0':\n",
    "    game = l[1:5]\n",
    "else :\n",
    "    game = l[0:4]\n",
    "\n",
    "run = ''.join(str(x) for x in game)\n",
    "#run"
   ]
  },
  {
   "cell_type": "code",
   "execution_count": 10,
   "metadata": {},
   "outputs": [
    {
     "name": "stdout",
     "output_type": "stream",
     "text": [
      "猜四位數：1234\n",
      "1A1B\n",
      "\n",
      "猜四位數：2543\n",
      "1A1B\n",
      "\n",
      "猜四位數：2854\n",
      "2A0B\n",
      "\n",
      "猜四位數：2836\n",
      "1A1B\n",
      "\n",
      "猜四位數：2658\n",
      "1A1B\n",
      "\n",
      "猜四位數：2347\n",
      "1A2B\n",
      "\n",
      "猜四位數：2473\n",
      "1A2B\n",
      "\n",
      "猜四位數：2734\n",
      "3A0B\n",
      "\n",
      "猜四位數：2730\n",
      "2A0B\n",
      "\n",
      "猜四位數：2714\n",
      "3A0B\n",
      "\n",
      "猜四位數：2754\n",
      "3A0B\n",
      "\n",
      "猜四位數：2764\n",
      "遊戲結束~ 數字為2764，總共玩了12次。\n",
      "猜過的數字： ['1234', '2543', '2854', '2836', '2658', '2347', '2473', '2734', '2730', '2714', '2754', '2764']\n"
     ]
    }
   ],
   "source": [
    "# 開始猜數字\n",
    "count = 0\n",
    "tryNum = []\n",
    "\n",
    "player = input('猜四位數：')\n",
    "while player != '0000' :\n",
    "    tryNum.append(player)\n",
    "    count += 1\n",
    "    player = list(player)\n",
    "    if game == player :\n",
    "        print(f'遊戲結束~ 數字為{run}，總共玩了{count}次。')\n",
    "        print('猜過的數字：', tryNum)\n",
    "        break\n",
    "    else :\n",
    "        A = 0\n",
    "        B = 0\n",
    "        \n",
    "        for i in range(4) :\n",
    "            if player[i] == game[i] :\n",
    "                A += 1\n",
    "                player[i] = '+'\n",
    "        for i in range(4) :\n",
    "            if game.count(player[i]) != 0 :\n",
    "                B += 1\n",
    "\n",
    "        print(f'{A}A{B}B\\n')\n",
    "        player = input('猜四位數：')\n",
    "if player == '0000' :\n",
    "    print(f'遊戲結束~ 數字為{run}，總共玩了{count}次。')\n",
    "    print('猜過的數字：', tryNum)"
   ]
  },
  {
   "cell_type": "code",
   "execution_count": null,
   "metadata": {},
   "outputs": [],
   "source": []
  },
  {
   "cell_type": "code",
   "execution_count": null,
   "metadata": {},
   "outputs": [],
   "source": []
  },
  {
   "cell_type": "markdown",
   "metadata": {},
   "source": [
    "#### <font color=#0000FF>(004)請寫一個電腦與人玩擲骰子的遊戲，一次投三顆骰子總和的數值大者贏，輸出訊息為\n",
    "    \n",
    "* \"使用者(6) 電腦(15) : 電腦獲勝\"\n",
    "* \"使用者(12) 電腦(5) : 使用者勝\"\n",
    "* \"使用者(8) 電腦(8) : 平手\"    \n",
    "    \n",
    "小括弧內代表總點數和</font>\n",
    "\n",
    "<font color=#0000FF>請將以上寫成函數 : dices(num=3)\n",
    "    \n",
    "* num : 代表骰子的顆數，預設為3，亦可以由使用者輸入骰子顆數\n",
    "* 顯示 :\n",
    "    * \"使用者(6) 電腦(15) : 電腦獲勝\"\n",
    "    * \"使用者(12) 電腦(5) : 使用者勝\"\n",
    "    * \"使用者(8) 電腦(8) : 平手\"   "
   ]
  },
  {
   "cell_type": "code",
   "execution_count": 11,
   "metadata": {},
   "outputs": [
    {
     "name": "stdout",
     "output_type": "stream",
     "text": [
      "骰子顆數：3\n",
      "使用者(10) 電腦(9) : 使用者勝\n"
     ]
    }
   ],
   "source": [
    "def dices(num = 3) :\n",
    "    user = 0\n",
    "    computer = 0\n",
    "    for _ in range(num) :\n",
    "        user += np.random.randint(1,6+1)\n",
    "        computer += np.random.randint(1,6+1)\n",
    "    return (user, computer)\n",
    "\n",
    "num = int(input('骰子顆數：'))\n",
    "result = dices(num)\n",
    "line = ['電腦獲勝', '使用者勝', '平手']\n",
    "if result[0] < result[1] :\n",
    "    x = line[0]\n",
    "elif result[0] > result[1] :\n",
    "    x = line[1]\n",
    "else :\n",
    "    x = line[2]\n",
    "\n",
    "print(f'使用者({result[0]}) 電腦({result[1]}) : {x}')"
   ]
  },
  {
   "cell_type": "code",
   "execution_count": null,
   "metadata": {},
   "outputs": [],
   "source": []
  },
  {
   "cell_type": "code",
   "execution_count": null,
   "metadata": {},
   "outputs": [],
   "source": []
  },
  {
   "cell_type": "markdown",
   "metadata": {},
   "source": [
    "#### <font color=#0000FF>(005-01)請協助我家小朋友，寫一個以下的九九乘法表</font>\n",
    "<pre>\n",
    " 1 *  1 =  1\t 2 *  1 =  2\t 3 *  1 =  3\t\n",
    " 1 *  2 =  2\t 2 *  2 =  4\t 3 *  2 =  6\t\n",
    " 1 *  3 =  3\t 2 *  3 =  6\t 3 *  3 =  9\t\n",
    " 1 *  4 =  4\t 2 *  4 =  8\t 3 *  4 = 12\t\n",
    " 1 *  5 =  5\t 2 *  5 = 10\t 3 *  5 = 15\t\n",
    " 1 *  6 =  6\t 2 *  6 = 12\t 3 *  6 = 18\t\n",
    " 1 *  7 =  7\t 2 *  7 = 14\t 3 *  7 = 21\t\n",
    " 1 *  8 =  8\t 2 *  8 = 16\t 3 *  8 = 24\t\n",
    " 1 *  9 =  9\t 2 *  9 = 18\t 3 *  9 = 27\t\n",
    "\n",
    " 4 *  1 =  4\t 5 *  1 =  5\t 6 *  1 =  6\t\n",
    " 4 *  2 =  8\t 5 *  2 = 10\t 6 *  2 = 12\t\n",
    " 4 *  3 = 12\t 5 *  3 = 15\t 6 *  3 = 18\t\n",
    " 4 *  4 = 16\t 5 *  4 = 20\t 6 *  4 = 24\t\n",
    " 4 *  5 = 20\t 5 *  5 = 25\t 6 *  5 = 30\t\n",
    " 4 *  6 = 24\t 5 *  6 = 30\t 6 *  6 = 36\t\n",
    " 4 *  7 = 28\t 5 *  7 = 35\t 6 *  7 = 42\t\n",
    " 4 *  8 = 32\t 5 *  8 = 40\t 6 *  8 = 48\t\n",
    " 4 *  9 = 36\t 5 *  9 = 45\t 6 *  9 = 54\t\n",
    "\n",
    " 7 *  1 =  7\t 8 *  1 =  8\t 9 *  1 =  9\t\n",
    " 7 *  2 = 14\t 8 *  2 = 16\t 9 *  2 = 18\t\n",
    " 7 *  3 = 21\t 8 *  3 = 24\t 9 *  3 = 27\t\n",
    " 7 *  4 = 28\t 8 *  4 = 32\t 9 *  4 = 36\t\n",
    " 7 *  5 = 35\t 8 *  5 = 40\t 9 *  5 = 45\t\n",
    " 7 *  6 = 42\t 8 *  6 = 48\t 9 *  6 = 54\t\n",
    " 7 *  7 = 49\t 8 *  7 = 56\t 9 *  7 = 63\t\n",
    " 7 *  8 = 56\t 8 *  8 = 64\t 9 *  8 = 72\t\n",
    " 7 *  9 = 63\t 8 *  9 = 72\t 9 *  9 = 81\t\n",
    "</pre>"
   ]
  },
  {
   "cell_type": "code",
   "execution_count": 12,
   "metadata": {},
   "outputs": [
    {
     "name": "stdout",
     "output_type": "stream",
     "text": [
      " 1 *  1 =  1    2 *  1 =  2    3 *  1 =  3\n",
      " 1 *  2 =  2    2 *  2 =  4    3 *  2 =  6\n",
      " 1 *  3 =  3    2 *  3 =  6    3 *  3 =  9\n",
      " 1 *  4 =  4    2 *  4 =  8    3 *  4 = 12\n",
      " 1 *  5 =  5    2 *  5 = 10    3 *  5 = 15\n",
      " 1 *  6 =  6    2 *  6 = 12    3 *  6 = 18\n",
      " 1 *  7 =  7    2 *  7 = 14    3 *  7 = 21\n",
      " 1 *  8 =  8    2 *  8 = 16    3 *  8 = 24\n",
      " 1 *  9 =  9    2 *  9 = 18    3 *  9 = 27\n",
      "\n",
      " 4 *  1 =  4    5 *  1 =  5    6 *  1 =  6\n",
      " 4 *  2 =  8    5 *  2 = 10    6 *  2 = 12\n",
      " 4 *  3 = 12    5 *  3 = 15    6 *  3 = 18\n",
      " 4 *  4 = 16    5 *  4 = 20    6 *  4 = 24\n",
      " 4 *  5 = 20    5 *  5 = 25    6 *  5 = 30\n",
      " 4 *  6 = 24    5 *  6 = 30    6 *  6 = 36\n",
      " 4 *  7 = 28    5 *  7 = 35    6 *  7 = 42\n",
      " 4 *  8 = 32    5 *  8 = 40    6 *  8 = 48\n",
      " 4 *  9 = 36    5 *  9 = 45    6 *  9 = 54\n",
      "\n",
      " 7 *  1 =  7    8 *  1 =  8    9 *  1 =  9\n",
      " 7 *  2 = 14    8 *  2 = 16    9 *  2 = 18\n",
      " 7 *  3 = 21    8 *  3 = 24    9 *  3 = 27\n",
      " 7 *  4 = 28    8 *  4 = 32    9 *  4 = 36\n",
      " 7 *  5 = 35    8 *  5 = 40    9 *  5 = 45\n",
      " 7 *  6 = 42    8 *  6 = 48    9 *  6 = 54\n",
      " 7 *  7 = 49    8 *  7 = 56    9 *  7 = 63\n",
      " 7 *  8 = 56    8 *  8 = 64    9 *  8 = 72\n",
      " 7 *  9 = 63    8 *  9 = 72    9 *  9 = 81\n",
      "\n"
     ]
    }
   ],
   "source": [
    "for i in [1,4,7] :\n",
    "    for j in range(1, 9+1) :\n",
    "        print(f'{i:>2d} * {j:>2d} = {i*j:>2d}   {i+1:>2d} * {j:>2d} = {(i+1)*j:>2d}   {i+2:>2d} * {j:>2d} = {(i+2)*j:>2d}')\n",
    "    print()"
   ]
  },
  {
   "cell_type": "code",
   "execution_count": null,
   "metadata": {},
   "outputs": [],
   "source": []
  },
  {
   "cell_type": "code",
   "execution_count": null,
   "metadata": {},
   "outputs": [],
   "source": []
  },
  {
   "cell_type": "markdown",
   "metadata": {},
   "source": [
    "#### <font color=#0000FF>(005-02)我家小朋友說想要改成以下九九乘法表的排列</font>\n",
    "<pre>\n",
    " 1 *  1 =  1\t 2 *  1 =  2\t 3 *  1 =  3\t 4 *  1 =  4\t\n",
    " 1 *  2 =  2\t 2 *  2 =  4\t 3 *  2 =  6\t 4 *  2 =  8\t\n",
    " 1 *  3 =  3\t 2 *  3 =  6\t 3 *  3 =  9\t 4 *  3 = 12\t\n",
    " 1 *  4 =  4\t 2 *  4 =  8\t 3 *  4 = 12\t 4 *  4 = 16\t\n",
    " 1 *  5 =  5\t 2 *  5 = 10\t 3 *  5 = 15\t 4 *  5 = 20\t\n",
    " 1 *  6 =  6\t 2 *  6 = 12\t 3 *  6 = 18\t 4 *  6 = 24\t\n",
    " 1 *  7 =  7\t 2 *  7 = 14\t 3 *  7 = 21\t 4 *  7 = 28\t\n",
    " 1 *  8 =  8\t 2 *  8 = 16\t 3 *  8 = 24\t 4 *  8 = 32\t\n",
    " 1 *  9 =  9\t 2 *  9 = 18\t 3 *  9 = 27\t 4 *  9 = 36\t\n",
    "\n",
    " 5 *  1 =  5\t 6 *  1 =  6\t 7 *  1 =  7\t 8 *  1 =  8\t\n",
    " 5 *  2 = 10\t 6 *  2 = 12\t 7 *  2 = 14\t 8 *  2 = 16\t\n",
    " 5 *  3 = 15\t 6 *  3 = 18\t 7 *  3 = 21\t 8 *  3 = 24\t\n",
    " 5 *  4 = 20\t 6 *  4 = 24\t 7 *  4 = 28\t 8 *  4 = 32\t\n",
    " 5 *  5 = 25\t 6 *  5 = 30\t 7 *  5 = 35\t 8 *  5 = 40\t\n",
    " 5 *  6 = 30\t 6 *  6 = 36\t 7 *  6 = 42\t 8 *  6 = 48\t\n",
    " 5 *  7 = 35\t 6 *  7 = 42\t 7 *  7 = 49\t 8 *  7 = 56\t\n",
    " 5 *  8 = 40\t 6 *  8 = 48\t 7 *  8 = 56\t 8 *  8 = 64\t\n",
    " 5 *  9 = 45\t 6 *  9 = 54\t 7 *  9 = 63\t 8 *  9 = 72\t\n",
    "\n",
    " 9 *  1 =  9\t\n",
    " 9 *  2 = 18\t\n",
    " 9 *  3 = 27\t\n",
    " 9 *  4 = 36\t\n",
    " 9 *  5 = 45\t\n",
    " 9 *  6 = 54\t\n",
    " 9 *  7 = 63\t\n",
    " 9 *  8 = 72\t\n",
    " 9 *  9 = 81\t\n",
    "</pre>"
   ]
  },
  {
   "cell_type": "code",
   "execution_count": 13,
   "metadata": {},
   "outputs": [
    {
     "name": "stdout",
     "output_type": "stream",
     "text": [
      " 1 *  1 =  1    2 *  1 =  2    3 *  1 =  3    4 *  1 =  4\n",
      " 1 *  2 =  2    2 *  2 =  4    3 *  2 =  6    4 *  2 =  8\n",
      " 1 *  3 =  3    2 *  3 =  6    3 *  3 =  9    4 *  3 = 12\n",
      " 1 *  4 =  4    2 *  4 =  8    3 *  4 = 12    4 *  4 = 16\n",
      " 1 *  5 =  5    2 *  5 = 10    3 *  5 = 15    4 *  5 = 20\n",
      " 1 *  6 =  6    2 *  6 = 12    3 *  6 = 18    4 *  6 = 24\n",
      " 1 *  7 =  7    2 *  7 = 14    3 *  7 = 21    4 *  7 = 28\n",
      " 1 *  8 =  8    2 *  8 = 16    3 *  8 = 24    4 *  8 = 32\n",
      " 1 *  9 =  9    2 *  9 = 18    3 *  9 = 27    4 *  9 = 36\n",
      "\n",
      " 5 *  1 =  5    6 *  1 =  6    7 *  1 =  7    8 *  1 =  8\n",
      " 5 *  2 = 10    6 *  2 = 12    7 *  2 = 14    8 *  2 = 16\n",
      " 5 *  3 = 15    6 *  3 = 18    7 *  3 = 21    8 *  3 = 24\n",
      " 5 *  4 = 20    6 *  4 = 24    7 *  4 = 28    8 *  4 = 32\n",
      " 5 *  5 = 25    6 *  5 = 30    7 *  5 = 35    8 *  5 = 40\n",
      " 5 *  6 = 30    6 *  6 = 36    7 *  6 = 42    8 *  6 = 48\n",
      " 5 *  7 = 35    6 *  7 = 42    7 *  7 = 49    8 *  7 = 56\n",
      " 5 *  8 = 40    6 *  8 = 48    7 *  8 = 56    8 *  8 = 64\n",
      " 5 *  9 = 45    6 *  9 = 54    7 *  9 = 63    8 *  9 = 72\n",
      "\n",
      " 9 *  1 =  9\n",
      " 9 *  2 = 18\n",
      " 9 *  3 = 27\n",
      " 9 *  4 = 36\n",
      " 9 *  5 = 45\n",
      " 9 *  6 = 54\n",
      " 9 *  7 = 63\n",
      " 9 *  8 = 72\n",
      " 9 *  9 = 81\n"
     ]
    }
   ],
   "source": [
    "for i in [1,5] :\n",
    "    for j in range(1, 9+1) :\n",
    "        print(f'{i:>2d} * {j:>2d} = {i*j:>2d}   {i+1:>2d} * {j:>2d} = {(i+1)*j:>2d}   {i+2:>2d} * {j:>2d} = {(i+2)*j:>2d}   {i+3:>2d} * {j:>2d} = {(i+3)*j:>2d}')\n",
    "    print()\n",
    "for i in [9] :\n",
    "    for j in range(1, 9+1) :\n",
    "        print(f'{i:>2d} * {j:>2d} = {i*j:>2d}')"
   ]
  },
  {
   "cell_type": "code",
   "execution_count": null,
   "metadata": {},
   "outputs": [],
   "source": []
  },
  {
   "cell_type": "code",
   "execution_count": null,
   "metadata": {},
   "outputs": [],
   "source": []
  },
  {
   "cell_type": "markdown",
   "metadata": {},
   "source": [
    "#### <font color=#0000FF>(005-03)可否寫一個函數 nm(n = 9, m = 9, cols = 4)，可以符合nm乘法表，以及任何行數皆可的</font>\n",
    "* n, m : 代表 nXm 乘法表\n",
    "* cols : 代表要輸出幾行"
   ]
  },
  {
   "cell_type": "code",
   "execution_count": 14,
   "metadata": {},
   "outputs": [
    {
     "name": "stdout",
     "output_type": "stream",
     "text": [
      " 1 *  1 =  1    2 *  1 =  2    3 *  1 =  3    4 *  1 =  4   \n",
      " 1 *  2 =  2    2 *  2 =  4    3 *  2 =  6    4 *  2 =  8   \n",
      " 1 *  3 =  3    2 *  3 =  6    3 *  3 =  9    4 *  3 = 12   \n",
      " 1 *  4 =  4    2 *  4 =  8    3 *  4 = 12    4 *  4 = 16   \n",
      " 1 *  5 =  5    2 *  5 = 10    3 *  5 = 15    4 *  5 = 20   \n",
      " 1 *  6 =  6    2 *  6 = 12    3 *  6 = 18    4 *  6 = 24   \n",
      " 1 *  7 =  7    2 *  7 = 14    3 *  7 = 21    4 *  7 = 28   \n",
      "\n",
      " 5 *  1 =  5    6 *  1 =  6    7 *  1 =  7    8 *  1 =  8   \n",
      " 5 *  2 = 10    6 *  2 = 12    7 *  2 = 14    8 *  2 = 16   \n",
      " 5 *  3 = 15    6 *  3 = 18    7 *  3 = 21    8 *  3 = 24   \n",
      " 5 *  4 = 20    6 *  4 = 24    7 *  4 = 28    8 *  4 = 32   \n",
      " 5 *  5 = 25    6 *  5 = 30    7 *  5 = 35    8 *  5 = 40   \n",
      " 5 *  6 = 30    6 *  6 = 36    7 *  6 = 42    8 *  6 = 48   \n",
      " 5 *  7 = 35    6 *  7 = 42    7 *  7 = 49    8 *  7 = 56   \n",
      "\n",
      " 9 *  1 =  9   10 *  1 = 10   11 *  1 = 11   12 *  1 = 12   \n",
      " 9 *  2 = 18   10 *  2 = 20   11 *  2 = 22   12 *  2 = 24   \n",
      " 9 *  3 = 27   10 *  3 = 30   11 *  3 = 33   12 *  3 = 36   \n",
      " 9 *  4 = 36   10 *  4 = 40   11 *  4 = 44   12 *  4 = 48   \n",
      " 9 *  5 = 45   10 *  5 = 50   11 *  5 = 55   12 *  5 = 60   \n",
      " 9 *  6 = 54   10 *  6 = 60   11 *  6 = 66   12 *  6 = 72   \n",
      " 9 *  7 = 63   10 *  7 = 70   11 *  7 = 77   12 *  7 = 84   \n",
      "\n",
      "13 *  1 = 13   14 *  1 = 14   \n",
      "13 *  2 = 26   14 *  2 = 28   \n",
      "13 *  3 = 39   14 *  3 = 42   \n",
      "13 *  4 = 52   14 *  4 = 56   \n",
      "13 *  5 = 65   14 *  5 = 70   \n",
      "13 *  6 = 78   14 *  6 = 84   \n",
      "13 *  7 = 91   14 *  7 = 98   \n",
      "\n"
     ]
    }
   ],
   "source": [
    "def nm(n = 9, m = 9, cols = 4) :\n",
    "    br = list(range(1, n+1, cols))\n",
    "    for i in br :\n",
    "        for j in range(1, m+1) :\n",
    "            k = i\n",
    "            for _ in range(cols) :\n",
    "                if k<=n :\n",
    "                    print(f'{k:>2d} * {j:>2d} = {k*j:>2d}', end=' '*3)\n",
    "                    k += 1\n",
    "                else :\n",
    "                    break\n",
    "            print()\n",
    "        print()\n",
    "        \n",
    "nm(14,7,4)"
   ]
  },
  {
   "cell_type": "code",
   "execution_count": null,
   "metadata": {},
   "outputs": [],
   "source": []
  },
  {
   "cell_type": "markdown",
   "metadata": {},
   "source": [
    "#### <font color=blue>(006) 請撰寫一個計算英文單字的函數</font>\n",
    "- 函數名稱 : countWordsByEng(txt, stop_words, topN=10, wordMinLength=3)\n",
    "- 【參數說明】\n",
    "    - txt : str，輸入的英文文章\n",
    "    - stop_words : 欲去除掉的停用字(詞)，非英文單字，包括數字、標點符號、....\n",
    "    - topN : 欲回傳頻率最高的前 n 個單字，預設為 10\n",
    "    - wordMinLength : 單字最短長度，也就是至少有幾個字母，預設為 3\n",
    "- 【回傳】\n",
    "    - dict.items()\n",
    "- <font color=red>【特別注意事項】</font>\n",
    "    - 有些單字的前、後會與某些符號連在一起，要記得處理，例如 : Exclusive: 就要去除掉 :\n",
    "    - 所有因為單字皆要轉換成 `小寫`"
   ]
  },
  {
   "cell_type": "code",
   "execution_count": 2,
   "metadata": {},
   "outputs": [],
   "source": [
    "news = \"\"\"\n",
    "CNN Exclusive: New footage shows congressional leadership at Fort McNair on January 6, scrambling to save the US Capitol\n",
    "By Marshall Cohen\n",
    "Updated 9:02 PM EDT, Thu October 13, 2022\n",
    "\n",
    "CNN — Never-before-seen footage, obtained exclusively by CNN, shows in vivid new detail how congressional leaders fled the US Capitol on January 6 and transformed a nearby military base into a command center, where they frantically coordinated with Vice President Mike Pence and Trump Cabinet members to quell the insurrection and finish certifying the 2020 election. \n",
    "The January 6 select committee aired snippets of the footage at its public hearing on Thursday, but CNN has obtained roughly an hour of additional material that wasn’t presented by the panel.\n",
    "Congressional leaders contemplated, far more seriously than previously known, whether to reconvene the Electoral College proceedings at Fort McNair, the footage obtained by CNN reveals. House Speaker Nancy Pelosi spoke with Pence about the “backup plan,” and officials tried to figure out how they’d transport hundreds of lawmakers to the Army base. \n",
    "The extended raw footage shines a devastating light on then-President Donald Trump’s inaction during the riot. Lawmakers are seen working around Trump to secure any help they could get – from the National Guard, federal agencies and local police departments – to defeat the mob he incited.\n",
    "The footage was captured by Alexandra Pelosi, a documentary filmmaker and daughter of the Democratic speaker of the House. The filmmaker provided some of her behind-the-scenes footage to the January 6 select committee, which aired an edited compilation at Thursday’s hearing.\n",
    "“Everyone involved was working actively to stop the violence, to get federal law enforcement deployed to the scene to put down the violence and secure the Capitol complex,” Rep. Jamie Raskin, a Maryland Democrat, said about the footage at the hearing. “All of them did what President Trump was not doing, what he simply refused to do.”\n",
    "It has been known since January 6, 2021, that congressional leaders from both parties were hastily  evacuated to Fort McNair, which is about two miles south of the Capitol. But prior to Thursday, the public has seen very little footage from inside the base, and the new tapes show for the first time Pelosi’s rushed exit from the Capitol and into an SUV that took her to the base.  \n",
    "The new clips show chaotic scenes of Democrats and Republicans working the phones at Fort McNair, sometimes together, trying to figure out what was going on at the overrun Capitol, and begging for help. \n",
    "In one dramatic scene, then-Senate Minority Leader Chuck Schumer shouted at the Secretary of the Army, Ryan McCarthy, after hearing a rumor that Trump blocked the DC National Guard from rushing to the Capitol. \n",
    "“I’d like to know a good God damn reason why it’s been denied,” Schumer said. “Please – the whole Capitol is rampaged. There is a picture of someone sitting in the chair of the Senate. We’ve all been evacuated. There have been shots fired. We need a full National Guard component, now.” \n",
    "McCarthy then assures Schumer that there was no stand-down order for the National Guard.\n",
    "And in another shocking moment, Schumer and Pelosi are seen chewing out the acting Attorney General Jeffrey Rosen. In a heated phone call, Schumer told Rosen that federal authorities should “make arrests, starting now,” but Rosen only offered a halting, non-committal response.  \n",
    "“Um, I have to defer to law enforcement on that,” Rosen replied. \n",
    "‘Don’t let anybody know where you are’\n",
    "Most of the raw footage shows Pelosi’s movements on January 6, and Alexandra Pelosi’s documentary crew provided CNN with timestamps for the videos. Perhaps the most consequential revelations are the phone calls between Pence and Pelosi, who were first and second in the line of succession. \n",
    "Their first call in the footage happened around 4:20 p.m. ET. Pelosi asks Pence about his well-being and his physical safety, before discussing the possibility of resuming the joint session of Congress at Fort McNair, so lawmakers could complete the ceremonial process of finalizing Biden’s victory. \n",
    "“We’re at Fort McNair, which has facilities for the House and the Senate to meet, as a backup  plan … should anything happen that would warrant that,” Pelosi says. “We’d rather go to the Capitol and do it there, but it doesn’t seem to be safe.”\n",
    "Pelosi went on to tell Pence that she had been told it would take “days” for the Capitol to be secured, and thus, “we logistically want to bring all the members here, House and Senate.” But that never materialized: rank-and-file lawmakers and congressional staffers stayed inside the Capitol throughout the siege, with many barricading themselves in their offices.\n",
    "“I worry about you being in that Capitol room,” Pelosi tells Pence, who was holed up in a loading dock underneath the Capitol with his security detail. “Don’t let anybody know where you are.”\n",
    "Pelosi tells the vice president that she heard reports of “defecation” on the House floor. \n",
    "The House speaker says she consulted with then-Senate Majority Leader Mitch McConnell about trying to “expedite” the GOP objections to President-elect Joe Biden’s electoral votes, so they could raise one objection and then “move forward” with the election certification. McConnell, a Kentucky Republican, opposed the objections but several Trump-aligned GOP senators were still trying to nullify Biden’s victories in several key states.\n",
    "During the call, Pelosi unwraps a beef jerky stick and eats it, while holding the phone with her other hand.\n",
    "House Speaker Nancy Pelosi (center) evacuates the US Capitol during the early stages of the insurrection on January 6, 2021.\n",
    "House Speaker Nancy Pelosi (center) evacuates the US Capitol during the early stages of the insurrection on January 6, 2021.\n",
    "Courtesy Alexandra Pelosi/HBO\n",
    "‘If he comes, I’m going to punch him out’\n",
    "Earlier in the previously unseen footage, on the morning of January 6, Pelosi participates in a video call with the House Democratic caucus to plan out the day’s proceedings. A devout Catholic, Pelosi invokes the Feast of the Epiphany, which is on January 6, and says she hoped that Republicans “would have their own epiphany” that day. \n",
    "The call took place in Pelosi’s same  conference room that was ransacked  just a few hours later by riotous Trump supporters, some of whom specifically said they wanted to hunt her down. \n",
    "Pelosi is later seen reacting to Trump’s speech at the Ellipse, where he told his supporters to march to the Capitol, and said he’d be there with them to protest the election certification. \n",
    "“Tell him, if he comes here, we’re going to the White House,” Pelosi quips, with a laugh. \n",
    "Then, Pelosi’s chief of staff notifies her that the Secret Service “dissuaded (Trump) from coming to Capitol Hill.” It’s unclear how the aide learned this. But the footage backs up the testimony of  Trump White House official Cassidy Hutchinson, who told the January 6 committee about Trump’s attempts to force his security detail to take him to the Capitol, but they overruled him. \n",
    "Pelosi responds to the news with a straight face, telling nearby aides: “If he comes, I’m going to punch him out. I’ve been waiting for this. For trespassing on the Capitol grounds, I’m going to punch him out. And I’m going to go to jail, and I’m going to be happy.”\n",
    "‘We have got to finish the proceedings’\n",
    "As Pelosi exits her office and heads to the House chamber, the footage shows congressional aides carrying the all-important boxes containing the official Electoral College certificates. The proceedings begin, with Pence presiding, and GOP lawmakers quickly file their first objection. \n",
    "Throngs of Trump supporters soon started swarming the Capitol complex. The shaky video footage shows Pelosi and her entourage of staff and family members getting whisked away from the building, escaping the fast-approaching rioters and descending down a narrow staircase \n",
    "“If they stop the proceedings, we will have totally failed,” Pelosi says, as she evacuated the Capitol, adding later, “We have got to finish the proceedings, or else they will have a complete victory.” \n",
    "On her way out, she asks aides if they were able to reach  McConnell, and whether he was on board to jointly request emergency assistance from the National Guard. (He was, they said.)\n",
    "Resettled at Fort McNair, Pelosi learns that some House members were trapped in the chamber and were instructed by security officials to put on their government-issued gas masks. Pelosi and her colleagues later watch the riot unfolding on CNN, the footage shows. They were visibly shaken by the TV coverage. \n",
    "House Speaker Nancy Pelosi (left) looks at TV coverage of the January 6 insurrection, while House Majority Leader Steny Hoyer (center) and then-Senate Minority Leader Chuck Schumer talk on the phone with officials about securing the US Capitol. \n",
    "House Speaker Nancy Pelosi (left) looks at TV coverage of the January 6 insurrection, while House Majority Leader Steny Hoyer (center) and then-Senate Minority Leader Chuck Schumer talk on the phone with officials about securing the US Capitol.\n",
    "Courtesy Alexandra Pelosi/HBO\n",
    "‘One hell of a hurry’\n",
    "The extended footage obtained by CNN shows congressional leaders from both parties taking refuge at Fort McNair. \n",
    "Democratic leaders Pelosi and Schumer, as well as top-ranking Reps. Steny Hoyer and James Clyburn, are seen throughout the raw footage. They were joined by top Republicans, like McConnell, Sen. Chuck Grassley of Iowa, Sen John Thune of South Dakota and Rep. Steve Scalise, the House Minority Whip.\n",
    "House Minority Leader Kevin McCarthy, a California Republican, is also in the footage, taking refuge at Fort McNair. His presence is notable considering his trajectory after the insurrection: McCarthy confronted Trump in a heated call during the attack, and directly blamed Trump in the immediate aftermath, but days later re-embraced Trump and began downplaying the riot.\n",
    "One scene from the footage, around 3:18 p.m. ET, shows some of the senior Democratic officials talking again with Ryan McCarthy, the Army secretary. Schumer was apparently under the impression that the military response was impeded. \n",
    "“I never said no,” Ryan McCarthy says, about activating the National Guard. “I just had to get permission.” Without naming any names, Ryan McCarthy then tells the lawmakers that he “had to talk to my boss.” It’s not clear who the Army leader was referring to, but acting Defense Secretary Christopher Miller was technically his boss. \n",
    "Miller did not speak with Trump  on January 6, according to the House select committee investigating the attack. Miller did speak that day with Pence, who took on an impromptu leadership role that day, working with  congressional  leaders and Capitol security officials, and the footage clearly shows Pence coordinating with Pelosi about the efforts to secure the Capitol. \n",
    "Roughly 30 minutes later, approximately 10 lawmakers huddle around a phone in a bipartisan scrum to speak with Miller, the acting Defense secretary. Schumer presses Miller on the slow National Guard response, and informed Miller that some senators were trapped in their hideaway offices near the breached Senate chamber. \n",
    "McConnell tells Miller that troops need to be “getting there in one hell of a hurry, you understand?”\n",
    "“This is an emergency,” Schumer says, “where life and limb are at stake.”\n",
    "The acting Pentagon chief tells the lawmakers that he got the message “loud and clear,” the troops had already been activated, and that plans to retake the Capitol were being devised by military leaders. \n",
    "‘Answer my question!’\n",
    "The clips show Pelosi speaking with then-Virginia Gov. Ralph Northam, a Democrat, about sending troops, because he could directly activate the Virginia National Guard without presidential involvement.  She additionally spoke with DC Mayor Muriel Bowser, another Democrat, whose police department was on the frontlines that day.\n",
    "There was also the showdown with Rosen, the acting attorney general. Schumer yells into his flip phone, castigating Rosen, and urges him to tell Trump to call off the mob. Rosen had little to offer Schumer, except to say he was mobilizing federal agents under his purview. Pelosi tells Rosen that the rioters were “breaking the law … at the instigation of the President of the United States.”\n",
    "Rosen says his team was “coordinating as quickly and as–” before getting cut off by Schumer, who forcefully asks Rosen again if he will intervene directly with Trump. \n",
    "“No, no, no – please answer my question,” Schumer shouts. “Answer my question!”\n",
    "At that time, Schumer likely didn’t know Rosen’s relationship with Trump had deteriorated, and that Rosen was less of a Trump loyalist and more of an ally supporting the transfer of power. \n",
    "Days earlier, Trump had  threatened to fire Rosen and replace him with Jeffrey Clark, a top Justice Department official who was willing to do what Rosen wouldn’t: Use the powers of federal law enforcement to overturn the results of the 2020 election to keep Trump in power. \n",
    "“Mr. President, you’re right that I’m not going to allow the Justice Department to do anything to try to overturn the election,” Rosen told Trump during that high-stakes Oval Office meeting on January 3, 2021, according to his testimony to the January 6 committee. \n",
    "While taking refuge at Fort McNair, House Speaker Nancy Pelosi (left), Sen. Chuck Grassley (center) and then-Senate Minority Leader Chuck Schumer talk on the phone with Vice President Mike Pence on January 6, 2021. \n",
    "While taking refuge at Fort McNair, House Speaker Nancy Pelosi (left), Sen. Chuck Grassley (center) and then-Senate Minority Leader Chuck Schumer talk on the phone with Vice President Mike Pence on January 6, 2021.\n",
    "Courtesy Alexandra Pelosi/HBO\n",
    "‘Continue democracy here on base’\n",
    "As late as 4:30 p.m. ET, top congressional leaders were talking with McCarthy, the Army secretary, about completing the joint session of Congress at Fort McNair. \n",
    "“We must finish,” Schumer said, “but you have to help us make that decision.”  \n",
    "Schumer and others later discuss the logistics of shuttling hundreds of lawmakers to Fort McNair. Pelosi wonders aloud if there were microphones they could use. Officials tried to resolve the big questions: How would lawmakers get bussed from the Capitol to Fort McNair? Where would they go after certification is completed? How would they get home safely?\n",
    "In what looked like an impromptu briefing, a US Capitol Police officer provides some logistical answers to the senior lawmakers, for how they could “continue democracy here on base.”\n",
    "But the congressional leaders were also wary, and Schumer said the Fort McNair backup plan would look like “we’re abandoning the Capitol to insurrectionists.”\n",
    "By the evening, police had expelled most of the rioters and started establishing a secure perimeter around the Capitol. Pelosi gets on the phone again with Pence around 6 p.m. ET, and the vice president had some good news for the  congressional leaders, who were hoping to get back into the Capitol.  \n",
    "“I am literally standing with the chief of the US Capitol Police,” Pence said on speakerphone, as Pelosi, Schumer and Grassley listened. “And he just informed me, that their best information is that they believe that the House and the Senate will be able to reconvene in roughly an hour.”\n",
    "With that, the Fort McNair “backup plan” was called off. \n",
    "‘There is blood outside the Speaker’s Lobby’\n",
    "Soon after, Pelosi speaks with then-House sergeant-at-arms Paul Irving. In the previously undisclosed conversation, Irving confirms that lawmakers can soon return, but some areas will be off-limits, because they are a “crime scene.” \n",
    "“There is blood outside the Speaker’s Lobby,” Irving says, referring to the area immediately off the House floor where Capitol rioter  Ashli Babbitt was fatally shot  by a police officer.\n",
    "The footage shows Pelosi leaving Fort McNair and driving through the dark streets of DC toward the Capitol. The Senate reconvened around 8 p.m. ET and the House reconvened around 9 p.m. ET.\n",
    "Despite the attack, Trump’s staunchest congressional allies pushed ahead with their challenges against Biden’s electors from Arizona and Pennsylvania. Their objections, based on meritless claims of fraud, were  defeated in bipartisan votes. The 2020 election formally came to a close. \n",
    "The new footage was captured by Alexandra Pelosi, who has released documentaries on HBO for decades. CNN and HBO are both owned by the same parent company, Warner Bros. Discovery.\n",
    "CNN’s Chuck Hadad contributed to this story\n",
    "\"\"\""
   ]
  },
  {
   "cell_type": "code",
   "execution_count": 3,
   "metadata": {},
   "outputs": [],
   "source": [
    "def countWordsByEng(txt, stop_words, topN=10, wordMinLength=3) :\n",
    "    txt = txt.lower()\n",
    "    for i in range(len(stop_words)) :\n",
    "        txt = txt.replace(stop_words[i], \" \")\n",
    "    \n",
    "    lis = txt.split()\n",
    "    for i in range(len(lis)) :\n",
    "        if len(lis[i])<wordMinLength :\n",
    "            lis[i] = \"\"\n",
    "    lis = list(filter(None, lis))\n",
    "    \n",
    "    d = {w:lis.count(w) for w in set(lis)}\n",
    "    d = sorted(d.items(), key=lambda x : x[1], reverse=True)[:10]\n",
    "    print(d)\n",
    "    return"
   ]
  },
  {
   "cell_type": "code",
   "execution_count": 4,
   "metadata": {
    "scrolled": true
   },
   "outputs": [
    {
     "name": "stdout",
     "output_type": "stream",
     "text": [
      "[('pelosi', 44), ('capitol', 34), ('house', 26), ('trump', 24), ('footage', 23), ('schumer', 22), ('january', 18), ('mcnair', 17), ('rosen', 15), ('about', 13)]\n"
     ]
    }
   ],
   "source": [
    "stop_words = \" :\\\\/,|\\n—-.’“”–  ()‘!?\"\n",
    "countWordsByEng(txt=news, stop_words=stop_words, topN=10, wordMinLength=5)\n",
    "\n",
    "# 【輸出結果】\n",
    "# [('Pelosi', 28),\n",
    "#  ('Capitol', 20),\n",
    "#  ('Schumer', 18),\n",
    "#  ('House', 18),\n",
    "#  ('footage', 18),\n",
    "#  ('January', 17),\n",
    "#  ('Trump', 15),\n",
    "#  ('about', 13),\n",
    "#  ('Pence', 11),\n",
    "#  ('Rosen', 9)]"
   ]
  },
  {
   "cell_type": "code",
   "execution_count": null,
   "metadata": {},
   "outputs": [],
   "source": []
  }
 ],
 "metadata": {
  "kernelspec": {
   "display_name": "Python 3 (ipykernel)",
   "language": "python",
   "name": "python3"
  },
  "language_info": {
   "codemirror_mode": {
    "name": "ipython",
    "version": 3
   },
   "file_extension": ".py",
   "mimetype": "text/x-python",
   "name": "python",
   "nbconvert_exporter": "python",
   "pygments_lexer": "ipython3",
   "version": "3.9.12"
  }
 },
 "nbformat": 4,
 "nbformat_minor": 2
}
